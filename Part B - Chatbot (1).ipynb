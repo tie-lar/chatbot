{
 "cells": [
  {
   "cell_type": "markdown",
   "metadata": {},
   "source": [
    "Welcome to Lab 6! 😊 <br>\n",
    "This week, we'll learn about NLP, and how to creat a chatbot!<br>\n",
    "💡 Read all the instructions carefully and complete the cells ( `____` ) starting with the question. Compare your answer with the answer given below the cell.\n"
   ]
  },
  {
   "cell_type": "markdown",
   "metadata": {
    "id": "9gs47Yd1gmgi"
   },
   "source": [
    "# Building a simple Chatbot\n",
    "Chatbots can combine complex processes to streamline and automate common and repetitive tasks through a few simple voice or text requests, reducing execution time and improving business efficiencies.\n",
    "\n",
    "Let's create a very basic chatbot utlising the Python's spaCy library. It's a very simple bot with hardly any cognitive skills, but still a good way to get into NLP and get to know about chatbots. 😀\n",
    "\n",
    "First of all, install and import required libraries (you may need to install other libararies)."
   ]
  },
  {
   "cell_type": "code",
   "execution_count": null,
   "metadata": {
    "colab": {
     "base_uri": "https://localhost:8080/"
    },
    "executionInfo": {
     "elapsed": 9038,
     "status": "ok",
     "timestamp": 1677682305283,
     "user": {
      "displayName": "masoomeh golchehreh",
      "userId": "11083180084346240035"
     },
     "user_tz": 0
    },
    "id": "xTDDFy-InezE",
    "outputId": "55fb8164-ca9a-4703-e66f-40c316cd9413"
   },
   "outputs": [],
   "source": [
    "!pip install spacy\n",
    "!pip install beautifulsoup4\n",
    "!pip install experta"
   ]
  },
  {
   "cell_type": "code",
   "execution_count": null,
   "metadata": {
    "executionInfo": {
     "elapsed": 33,
     "status": "ok",
     "timestamp": 1677682305284,
     "user": {
      "displayName": "masoomeh golchehreh",
      "userId": "11083180084346240035"
     },
     "user_tz": 0
    },
    "id": "J5qIxVe4vI3w"
   },
   "outputs": [],
   "source": [
    "import random\n",
    "import json\n",
    "import spacy\n",
    "import difflib\n",
    "from difflib import get_close_matches, SequenceMatcher\n",
    "import requests\n",
    "from bs4 import BeautifulSoup\n",
    "from datetime import datetime\n",
    "import warnings\n",
    "warnings.filterwarnings('ignore')\n",
    "\n",
    "from random import choice\n",
    "from experta import *"
   ]
  },
  {
   "cell_type": "code",
   "execution_count": null,
   "metadata": {
    "colab": {
     "base_uri": "https://localhost:8080/"
    },
    "executionInfo": {
     "elapsed": 6572,
     "status": "ok",
     "timestamp": 1677682311826,
     "user": {
      "displayName": "masoomeh golchehreh",
      "userId": "11083180084346240035"
     },
     "user_tz": 0
    },
    "id": "R3qZ_TBtCZtN",
    "outputId": "5067c750-b98b-472e-83a3-2a8da1000bab"
   },
   "outputs": [],
   "source": [
    "# You may need to restart the kernel after running these two commands for it to work.\n",
    "import spacy.cli\n",
    "spacy.cli.download(\"en_core_web_sm\")"
   ]
  },
  {
   "cell_type": "code",
   "execution_count": null,
   "metadata": {
    "executionInfo": {
     "elapsed": 264,
     "status": "ok",
     "timestamp": 1677682312088,
     "user": {
      "displayName": "masoomeh golchehreh",
      "userId": "11083180084346240035"
     },
     "user_tz": 0
    },
    "id": "50PlVxrzCZtP"
   },
   "outputs": [],
   "source": [
    "# If you are using Colab, you should upload data folder and use its path here\n",
    "intentions_path = \"data/intentions.json\"\n",
    "sentences_path = \"data/sentences.txt\""
   ]
  },
  {
   "cell_type": "markdown",
   "metadata": {
    "id": "IiHeQTyItILd"
   },
   "source": [
    "# NLP\n",
    "NLP is a way for computers to analyze, understand, and derive meaning from human language in a smart and useful way. By utilizing NLP, developers can organize and structure knowledge to perform tasks such as automatic summarization, translation, named entity recognition, relationship extraction, sentiment analysis, speech recognition, and topic segmentation.\n",
    "\n",
    "Sometimes identifying a subject is as simple as checking keywords, and sometimes it requires complex analysis. Let's start with keywords."
   ]
  },
  {
   "cell_type": "markdown",
   "metadata": {
    "id": "nrA7HE9BjcRY"
   },
   "source": [
    "## Generating Responses by Keyword Matching\n",
    "\n",
    "There are different solutions for matching keywords that can be used depending on the complexity of the query. Here we use a simple keyword matching for greetings. We can also use `regular expression (regex)` or `spaCy Matcher` for keyword matching.\n",
    "\n",
    "\n",
    "💡 In the first step, the goal is to be able to recognize a keyword related to greeting, goodbye or thanks, then show a related response to the user.\n",
    "\n",
    "Before [loading JSON file in python](https://docs.python.org/3/library/json.html) check `intentions.json` file."
   ]
  },
  {
   "cell_type": "code",
   "execution_count": null,
   "metadata": {
    "colab": {
     "base_uri": "https://localhost:8080/"
    },
    "executionInfo": {
     "elapsed": 11,
     "status": "ok",
     "timestamp": 1677682312088,
     "user": {
      "displayName": "masoomeh golchehreh",
      "userId": "11083180084346240035"
     },
     "user_tz": 0
    },
    "id": "5rD4DDWaCZtS",
    "outputId": "0e159674-c8ca-4a9b-9fab-2debcd3376cc"
   },
   "outputs": [],
   "source": [
    "# Opening JSON file and return JSON object as a dictionary\n",
    "with open(intentions_path) as f:\n",
    "    intentions = json.load(f)\n",
    "\n",
    "print(json.dumps(intentions, indent=4))"
   ]
  },
  {
   "cell_type": "markdown",
   "metadata": {},
   "source": [
    "❓ <font color='red'>Question: </font>  Complete and run the following cell.<br>(Hint: Each sentence must be `split` into words and then if the word matches one of the `patterns`, the corresponding `responses` will be displayed.) "
   ]
  },
  {
   "cell_type": "code",
   "execution_count": null,
   "metadata": {},
   "outputs": [],
   "source": [
    "final_chatbot = False\n",
    "\n",
    "def check_intention_by_keyword(sentence):\n",
    "    for word in sentence._____():\n",
    "        for type_of_intention in intentions:\n",
    "            if word.lower() in intentions[type_of_intention][\"_____\"]:\n",
    "                print(\"BOT: \" + random.choice(intentions[type_of_intention][\"_____\"]))\n",
    "                \n",
    "                # Do not change these lines\n",
    "                if type_of_intention == 'greeting' and final_chatbot:\n",
    "                    print(\"BOT: We can talk about the time, date, and train tickets.\\n(Hint: What time is it?)\")\n",
    "                return type_of_intention\n",
    "    return None\n",
    "\n",
    "sample_user_input = \"Hi there.\"\n",
    "print(sample_user_input)\n",
    "print(f'Detected intention: {check_intention_by_keyword(sample_user_input)}')\n",
    "print('*' * 50)\n",
    "sample_user_input = \"Thank you very much!\"\n",
    "print(sample_user_input)\n",
    "print(f'Detected intention: {check_intention_by_keyword(sample_user_input)}')"
   ]
  },
  {
   "cell_type": "markdown",
   "metadata": {},
   "source": [
    "<font color='blue'>Your output should be (some chatbot responses may be random):</font>\n",
    "<br>\n",
    "```\n",
    "Hi there.\n",
    "BOT: Thanks for checking in.\n",
    "Detected intention: greeting\n",
    "**************************************************\n",
    "Thank you very much!\n",
    "BOT: You're welcome\n",
    "Detected intention: thanks\n",
    "```"
   ]
  },
  {
   "cell_type": "markdown",
   "metadata": {
    "id": "a7esLtNH0jdA"
   },
   "source": [
    "## Generating Responses by Similarity of Text\n",
    "\n",
    "The main issue with text data is that it is all in text format (strings). However, the Machine learning algorithms need some sort of numerical feature vector in order to perform the task. You can find more information in this [link](https://medium.com/@adriensieg/text-similarities-da019229c894), but we use a spaCy function for this purpose.\n",
    "\n",
    "Suppose our chatbot wants to answer a user's question about today's time or date. We use several sample sentences for these questions that we can identify the user's intention by measuring the similarity of the user's question with these sentences. First, we need to read this sentences from `sentences.txt` file."
   ]
  },
  {
   "cell_type": "code",
   "execution_count": null,
   "metadata": {
    "colab": {
     "base_uri": "https://localhost:8080/"
    },
    "executionInfo": {
     "elapsed": 8,
     "status": "ok",
     "timestamp": 1677682312089,
     "user": {
      "displayName": "masoomeh golchehreh",
      "userId": "11083180084346240035"
     },
     "user_tz": 0
    },
    "id": "LuDn_gKVCZtZ",
    "outputId": "9d8df420-11fe-4523-a341-33fb35897325"
   },
   "outputs": [],
   "source": [
    "# Reading `sentences.txt` file and printing its content.\n",
    "time_sentences = ''\n",
    "date_sentences = ''\n",
    "with open(sentences_path) as file:\n",
    "    for line in file:\n",
    "        parts = line.split(' | ')\n",
    "        if parts[0] == 'time':\n",
    "            time_sentences = time_sentences + ' ' + parts[1].strip()\n",
    "        elif parts[0] == 'date':\n",
    "            date_sentences = date_sentences + ' ' + parts[1].strip()\n",
    "\n",
    "print(time_sentences)\n",
    "print('*' * 50)\n",
    "print(date_sentences)"
   ]
  },
  {
   "cell_type": "markdown",
   "metadata": {},
   "source": [
    "Then we need to match each sentence to its label (‍`time` or `date`) to use them in the next steps."
   ]
  },
  {
   "cell_type": "code",
   "execution_count": null,
   "metadata": {
    "colab": {
     "base_uri": "https://localhost:8080/"
    },
    "executionInfo": {
     "elapsed": 1855,
     "status": "ok",
     "timestamp": 1677682313939,
     "user": {
      "displayName": "masoomeh golchehreh",
      "userId": "11083180084346240035"
     },
     "user_tz": 0
    },
    "id": "tVUMcZdBvYK5",
    "outputId": "0f623fa4-130e-44db-f6b6-21d71e9483cd"
   },
   "outputs": [],
   "source": [
    "nlp = spacy.load('en_core_web_sm')\n",
    "\n",
    "labels = []\n",
    "sentences = []\n",
    "\n",
    "doc = nlp(time_sentences)\n",
    "for sentence in doc.sents:\n",
    "    labels.append(\"time\")\n",
    "    sentences.append(sentence.text.lower().strip())\n",
    "\n",
    "doc = nlp(date_sentences)\n",
    "for sentence in doc.sents:\n",
    "    labels.append(\"date\")\n",
    "    sentences.append(sentence.text.lower().strip())\n",
    "\n",
    "for lable, sentence in zip(labels, sentences):\n",
    "     print(lable + \" : \" + sentence)"
   ]
  },
  {
   "cell_type": "markdown",
   "metadata": {
    "id": "yztzMkMg4JPW"
   },
   "source": [
    "❓ <font color='red'>Question: </font>  Complete and run the following cell. We need a function to lemmatize the text and remove stop words and punctuations, and then return the cleaned text."
   ]
  },
  {
   "cell_type": "code",
   "execution_count": null,
   "metadata": {
    "colab": {
     "base_uri": "https://localhost:8080/",
     "height": 35
    },
    "executionInfo": {
     "elapsed": 5,
     "status": "ok",
     "timestamp": 1677682313939,
     "user": {
      "displayName": "masoomeh golchehreh",
      "userId": "11083180084346240035"
     },
     "user_tz": 0
    },
    "id": "9yV1U0MKMNkE",
    "outputId": "17bc7f1e-e5a6-4723-9bed-0ef5a9c5e62f"
   },
   "outputs": [],
   "source": [
    "def lemmatize_and_clean(text):\n",
    "    doc = nlp(text.lower())\n",
    "    out = \"\"\n",
    "    for token in doc:\n",
    "        if not token._____ and not token.______:\n",
    "            out = out + token._____ + \" \"\n",
    "    return out.strip()\n",
    "\n",
    "sample_user_input = \"Tell me the time!\"\n",
    "lemmatize_and_clean(sample_user_input)"
   ]
  },
  {
   "cell_type": "markdown",
   "metadata": {},
   "source": [
    "<font color='blue'>Your output should be (some chatbot responses may be random):</font>\n",
    "<br><br>\n",
    "'tell time'"
   ]
  },
  {
   "cell_type": "markdown",
   "metadata": {
    "id": "lgDhFE2m6nRe"
   },
   "source": [
    "❓ <font color='red'>Question: </font>  Then we need a function that measures the similarity of the user's input with chatbot data (loaded sentences from previous cells). You should use the previous function in the upcoming function to clean the texts and then measure their similarity. For more information about similarity measurement, you can use [this link](https://spacy.io/usage/linguistic-features#vectors-similarity).<br>\n",
    "Complete and run the following cell. "
   ]
  },
  {
   "cell_type": "code",
   "execution_count": null,
   "metadata": {
    "colab": {
     "base_uri": "https://localhost:8080/"
    },
    "executionInfo": {
     "elapsed": 283,
     "status": "ok",
     "timestamp": 1677682314218,
     "user": {
      "displayName": "masoomeh golchehreh",
      "userId": "11083180084346240035"
     },
     "user_tz": 0
    },
    "id": "DNlvB8qe5Gn6",
    "outputId": "cadff653-c63a-42a0-b876-a8c5faadd59f"
   },
   "outputs": [],
   "source": [
    "final_chatbot = False\n",
    "\n",
    "def date_time_response(user_input):\n",
    "    cleaned_user_input = _____\n",
    "    doc_1 = nlp(cleaned_user_input)\n",
    "    similarities = {}\n",
    "    for idx, sentence in enumerate(sentences):\n",
    "        cleaned_sentence = _____\n",
    "        doc_2 = nlp(cleaned_sentence)\n",
    "        similarity = _____\n",
    "        similarities[idx] = similarity\n",
    "\n",
    "    max_similarity_idx = max(similarities, key=similarities.get)\n",
    "    \n",
    "    # Minimum acceptable similarity between user's input and our Chatbot data\n",
    "    # This number can be changed\n",
    "    min_similarity = 0.75\n",
    "\n",
    "    # Do not change these lines\n",
    "    if similarities[max_similarity_idx] > min_similarity:\n",
    "        if labels[max_similarity_idx] == 'time':\n",
    "            print(\"BOT: \" + \"It’s \" + str(datetime.now().strftime('%H:%M:%S')))\n",
    "            if final_chatbot:\n",
    "                print(\"BOT: You can also ask me what the date is today. (Hint: What is the date today?)\")\n",
    "        elif labels[max_similarity_idx] == 'date':\n",
    "            print(\"BOT: \" + \"It’s \" + str(datetime.now().strftime('%Y-%m-%d')))\n",
    "            if final_chatbot:\n",
    "                print(\"BOT: Now can you tell me where you want to go? (Hints: you can type in a city's name, or an organisation. I am going to London or I want to visit the University of East Anglia.)\")\n",
    "        return True\n",
    "    \n",
    "    return False\n",
    "\n",
    "sample_user_input = \"Tell me the time!\"\n",
    "print(sample_user_input)\n",
    "date_time_response(sample_user_input)"
   ]
  },
  {
   "cell_type": "markdown",
   "metadata": {},
   "source": [
    "<font color='blue'>Your output should be (some chatbot responses may be random):</font>\n",
    "<br>\n",
    "```\n",
    "Tell me the time!\n",
    "BOT: It’s 13:18:39\n",
    "```"
   ]
  },
  {
   "cell_type": "markdown",
   "metadata": {
    "id": "nZkG95Hg7A5K"
   },
   "source": [
    "# Generating Responses by Named-entity recognition (NER)\n",
    "\n",
    "Suppose our chatbot has a feature that can recognize the city/country and tell the user its weather, or if the user asks for the name of any university in the UK (organization), give its location and ranking.\n",
    "\n",
    "(For this, an API is needed, but here we use some fixed sentences for all the responses, and only identifying the location or organization is important.)\n",
    "\n",
    "Let's scrape some data about universities and their ranking in the UK (from https://www.4icu.org/gb/a-z/).\n",
    "\n",
    "Web scraping is the process of gathering information from the Internet. [BeautifulSoup](https://beautiful-soup-4.readthedocs.io/en/latest/) is a Python package for parsing HTML and XML documents. It creates parse trees that is helpful to extract the data easily."
   ]
  },
  {
   "cell_type": "code",
   "execution_count": null,
   "metadata": {
    "colab": {
     "base_uri": "https://localhost:8080/"
    },
    "executionInfo": {
     "elapsed": 623,
     "status": "ok",
     "timestamp": 1677682314839,
     "user": {
      "displayName": "masoomeh golchehreh",
      "userId": "11083180084346240035"
     },
     "user_tz": 0
    },
    "id": "CG6m4kzRCZth",
    "outputId": "fe3e05e8-4561-43ad-b4e4-2d97e3be67ef"
   },
   "outputs": [],
   "source": [
    "url = \"https://www.4icu.org/gb/a-z/\"\n",
    "content = requests.get(url)\n",
    "soup = BeautifulSoup(content.text, 'html.parser')\n",
    "\n",
    "universities = {}\n",
    "for tr in soup.find_all('tr')[2:]:\n",
    "    tds = tr.find_all('td')\n",
    "    if len(tds) == 3:\n",
    "        university = {}\n",
    "        university['Rank'] = tds[0].text\n",
    "        university['Name'] = tds[1].text\n",
    "        university['City'] = tds[2].text.replace(' ...', '')\n",
    "        universities[tds[1].text] = university\n",
    "        print (\"%s, Rank: %s, City: %s\" % \\\n",
    "            (university['Name'], university['Rank'], university['City']))\n"
   ]
  },
  {
   "cell_type": "markdown",
   "metadata": {},
   "source": [
    "This time, we use another library called [difflib](https://docs.python.org/3/library/difflib.html) to check the similarity of the user's input text with chatbot data (here the names of universities). As mentioned earlier, there are many ways to perform such operations, and the purpose of using multiple methods is only to show different approaches to solving the problem."
   ]
  },
  {
   "cell_type": "markdown",
   "metadata": {},
   "source": [
    "❓ <font color='red'>Question: </font>  Complete and run the following cell.<br>\n",
    "Check [this link](https://docs.python.org/3/library/difflib.html) and use `get_close_matches` and `SequenceMatcher` functions to complete this code."
   ]
  },
  {
   "cell_type": "code",
   "execution_count": null,
   "metadata": {},
   "outputs": [],
   "source": [
    "def get_best_match_university(user_input):\n",
    "  university_list = universities.keys()\n",
    "  matches = _____\n",
    "  if len(matches) > 0:\n",
    "    best_match = matches[0]\n",
    "  else:\n",
    "    return None\n",
    "  \n",
    "  sm = _____\n",
    "  score = sm.ratio()\n",
    "  if score >= 0.6:\n",
    "    return best_match\n",
    "  else:\n",
    "    return None\n",
    "\n",
    "matched_university = get_best_match_university(\"I am studying at University of Manchester.\")\n",
    "print(universities[matched_university])\n",
    "print('*' * 50)\n",
    "# Identifying the university despite the misspelling in its name \n",
    "# (Univerity --> University & Angla --> Anglia)\n",
    "matched_university = get_best_match_university(\"I am studying at Univerity of East Angla.\")\n",
    "print(universities[matched_university])"
   ]
  },
  {
   "cell_type": "markdown",
   "metadata": {},
   "source": [
    "<font color='blue'>Your output should be (some chatbot responses may be random):</font>\n",
    "<br>\n",
    "```\n",
    "{'Rank': '6', 'Name': 'The University of Manchester', 'City': 'Manchester'}\n",
    "**************************************************\n",
    "{'Rank': '27', 'Name': 'University of East Anglia', 'City': 'Norwich'}\n",
    "```"
   ]
  },
  {
   "cell_type": "markdown",
   "metadata": {},
   "source": [
    "❓ <font color='red'>Question: </font>  Complete and run the following cell.<br>\n",
    "The purpose of this function is to determine the type of request by using Named-entity recognition (NER). You can complete this code with the help of Part A codes and [this link](https://v2.spacy.io/api/annotation#named-entities)."
   ]
  },
  {
   "cell_type": "code",
   "execution_count": null,
   "metadata": {},
   "outputs": [],
   "source": [
    "final_chatbot = False\n",
    "\n",
    "def ner_response(user_input):\n",
    "    doc = nlp(user_input)\n",
    "    \n",
    "    for ent in doc._____:\n",
    "        # use entity type for countries, cities, states.\n",
    "        if ent._____ == \"_____\":\n",
    "          # Do not change these lines\n",
    "          print(\"BOT: Weather is very \" + random.choice([\"windy \", \"cold \", \"warm \"]) + \"in \" + ent.text + \" today.\")\n",
    "          if final_chatbot:\n",
    "            print(\"BOT: Could you please tell me what kind of ticket you are looking for? (You can just ask for one way, round and open return tickets.)\")\n",
    "          return True\n",
    "    \n",
    "    for ent in doc._____:\n",
    "        # use entity type for companies, agencies, institutions, etc.\n",
    "        if ent._____ == \"_____\":\n",
    "          # Do not change these lines\n",
    "          matched_university = get_best_match_university(ent.text)\n",
    "          if matched_university != None:\n",
    "            university = universities[matched_university]\n",
    "            print(f\"BOT: You asked for {university['Name']} which is located in the {university['City']} and its rank is {university['Rank']} in the UK.\")\n",
    "            if final_chatbot:\n",
    "              print(f\"BOT: Could you please tell me what kind of ticket you are looking for? (You can just ask for one way, round and open return tickets.)\")\n",
    "          else:\n",
    "            print(\"BOT: I don't have any information about it.\")\n",
    "\n",
    "          return True\n",
    "    \n",
    "    return False\n",
    "\n",
    "\n",
    "sample_user_input = \"How is weather in London?\"\n",
    "print(sample_user_input)\n",
    "ner_response(sample_user_input)\n",
    "print('*' * 50)\n",
    "sample_user_input = \"Give me information about University of East Anglia.\"\n",
    "print(sample_user_input)\n",
    "ner_response(sample_user_input)"
   ]
  },
  {
   "cell_type": "markdown",
   "metadata": {},
   "source": [
    "<font color='blue'>Your output should be (some chatbot responses may be random):</font>\n",
    "<br>\n",
    "```\n",
    "How is weather in London?\n",
    "BOT: Weather is very windy in London today.\n",
    "**************************************************\n",
    "Give me information about University of East Anglia.\n",
    "BOT: You asked for University of East Anglia which is located in the Norwich and its rank is 27 in the UK.\n",
    "```"
   ]
  },
  {
   "cell_type": "markdown",
   "metadata": {
    "id": "8GBiXS29sIvP"
   },
   "source": [
    "# Expert System\n",
    "The aim of the expert system is to take knowledge from a human expert and convert this into a number of hardcoded rules to apply to the input data.\n",
    "\n",
    "A classic example of a rule-based system is the domain-specific expert system that uses rules to make deductions or choices. For example, an expert system might help a doctor choose the correct diagnosis based on a cluster of symptoms, or select tactical moves to play a game.\n",
    "\n",
    "**The Basics**\n",
    "\n",
    "An expert system is a program capable of pairing up a set of facts with a set of rules to those facts, and execute some actions based on the matching rules.\n",
    "\n",
    "**Facts**\n",
    "\n",
    "Facts are the basic unit of information of Experta. They are used by the system to reason about the problem.\n",
    "\n",
    "**Rules**\n",
    "\n",
    "In their most basic form, the rules are commonly conditional statements (if a, then do x, else if b, then do y).\n",
    "\n",
    "**Experta** \n",
    "\n",
    "Experta is a Python library for building expert systems strongly inspired by CLIPS ([Experta Documentation](https://readthedocs.org/projects/experta/downloads/pdf/stable/)).\n",
    "\n",
    "\n",
    "The goal is to recognize the type of train ticket (according to the user's input message) with the Expert System and give a suitable answer to the user according to it. You might say that this operation could also be implemented with a simple if else condition. True, but it should be kept in mind that this is just for introduction and getting started, and for a bigger project (like your coursework) you will understand the importance of Expert System."
   ]
  },
  {
   "cell_type": "code",
   "execution_count": null,
   "metadata": {
    "executionInfo": {
     "elapsed": 10,
     "status": "ok",
     "timestamp": 1677682314840,
     "user": {
      "displayName": "masoomeh golchehreh",
      "userId": "11083180084346240035"
     },
     "user_tz": 0
    },
    "id": "ldowFPuFsH-P"
   },
   "outputs": [],
   "source": [
    "final_chatbot = False\n",
    "\n",
    "class Book(Fact):\n",
    "    \"\"\"Info about the booking ticket.\"\"\"\n",
    "    pass\n",
    "\n",
    "class TrainBot(KnowledgeEngine):\n",
    "  @Rule(Book(ticket='one way'))\n",
    "  def one_way(self):\n",
    "    print(\"BOT: You have selected a one way ticket. Have a good trip.\")\n",
    "    if final_chatbot:\n",
    "      print(\"BOT: If you don't have any other questions you can type bye.\")\n",
    "\n",
    "  @Rule(Book(ticket='round'))\n",
    "  def round_way(self):\n",
    "    print(\"BOT: You have selected a round ticket. Have a good trip.\")\n",
    "    if final_chatbot:\n",
    "      print(\"BOT: If you don't have any other questions you can type bye.\")\n",
    "\n",
    "  @Rule(AS.ticket << Book(ticket=L('open ticket') | L('open return')))\n",
    "  def open_ticket(self, ticket):\n",
    "    print(\"BOT: You have selected a \" + ticket[\"ticket\"] +\".  Have a good trip.\")\n",
    "    if final_chatbot:\n",
    "      print(\"BOT: If you don't have any other questions you can type bye.\")"
   ]
  },
  {
   "cell_type": "code",
   "execution_count": null,
   "metadata": {
    "colab": {
     "base_uri": "https://localhost:8080/"
    },
    "executionInfo": {
     "elapsed": 10,
     "status": "ok",
     "timestamp": 1677682314840,
     "user": {
      "displayName": "masoomeh golchehreh",
      "userId": "11083180084346240035"
     },
     "user_tz": 0
    },
    "id": "7PVnwyfGsRaS",
    "outputId": "eaea6186-45ce-4270-e2be-1f0d36cd581b"
   },
   "outputs": [],
   "source": [
    "engine = TrainBot()\n",
    "engine.reset()\n",
    "engine.declare(Book(ticket=choice(['one way', 'round', 'open ticket', 'open return'])))\n",
    "engine.run()"
   ]
  },
  {
   "cell_type": "markdown",
   "metadata": {},
   "source": [
    "❓ <font color='red'>Question: </font>  Complete and run the following cell."
   ]
  },
  {
   "cell_type": "code",
   "execution_count": null,
   "metadata": {
    "colab": {
     "base_uri": "https://localhost:8080/"
    },
    "executionInfo": {
     "elapsed": 9,
     "status": "ok",
     "timestamp": 1677682314841,
     "user": {
      "displayName": "masoomeh golchehreh",
      "userId": "11083180084346240035"
     },
     "user_tz": 0
    },
    "id": "uyaF4_rIsjMw",
    "outputId": "a411fba1-c1c7-4b6a-9241-d0cef6663bc7"
   },
   "outputs": [],
   "source": [
    "def check_ticket(user_input):\n",
    "  user_input = user_input.lower()\n",
    "  ticket_list = ['one way', 'round', 'open ticket', 'open return']    \n",
    "  \n",
    "  for ticket in ticket_list:\n",
    "    if ticket in user_input:\n",
    "      return ticket_list[ticket_list.index(ticket)]\n",
    "  \n",
    "  return None\n",
    "  \n",
    "\n",
    "def expert_response(user_input):\n",
    "    engine = TrainBot()\n",
    "    engine._____\n",
    "    ticket = check_ticket(user_input)\n",
    "    if ticket != None:\n",
    "        engine._____\n",
    "        engine._____\n",
    "        return True\n",
    "    \n",
    "    return False\n",
    "\n",
    "sample_user_input = \"I want a one way ticket.\"\n",
    "print(sample_user_input)\n",
    "expert_response(sample_user_input)"
   ]
  },
  {
   "cell_type": "markdown",
   "metadata": {},
   "source": [
    "<font color='blue'>Your output should be (some chatbot responses may be random):</font>\n",
    "<br>\n",
    "```\n",
    "I want a one way ticket.\n",
    "BOT: You have selected a one way ticket. Have a good trip.\n",
    "```"
   ]
  },
  {
   "cell_type": "markdown",
   "metadata": {
    "id": "7_jixvn94-dT"
   },
   "source": [
    "# Chatbot\n",
    "\n",
    "Finally, we will feed all the lines that we want our bot to say while making a conversation depending upon user’s input.\n",
    "\n",
    "This is a simple chatbot and only recognizes a few simple dialogues. You can use queries like the following for conversation (the answers related to weather are fake).\n",
    "\n",
    "\n",
    "*   Hi there!\n",
    "*   Tell me the time\n",
    "*   Tell me the date\n",
    "*   What is the weather like in Norwich?\n",
    "*   Where is the University of East Anglia?\n",
    "\n"
   ]
  },
  {
   "cell_type": "code",
   "execution_count": null,
   "metadata": {
    "colab": {
     "base_uri": "https://localhost:8080/",
     "height": 415
    },
    "executionInfo": {
     "elapsed": 126648,
     "status": "error",
     "timestamp": 1677682441484,
     "user": {
      "displayName": "masoomeh golchehreh",
      "userId": "11083180084346240035"
     },
     "user_tz": 0
    },
    "id": "sCbYHm5J9Gp_",
    "outputId": "be629ed9-7bd5-46f6-dc98-1357db239bda"
   },
   "outputs": [],
   "source": [
    "final_chatbot = True\n",
    "flag=True\n",
    "print(\"BOT: Hi there! How can I help you?.\\n (If you want to exit, just type bye!)\") \n",
    "while(flag==True):\n",
    "    user_input = input()\n",
    "    intention = check_intention_by_keyword(user_input)\n",
    "    if intention == 'goodbye':\n",
    "        flag=False\n",
    "    elif intention == None:\n",
    "        if not ner_response(user_input):\n",
    "          if not date_time_response(user_input):\n",
    "              if not expert_response(user_input):\n",
    "                if not ner_response(user_input):\n",
    "                  print(\"BOT: Sorry I don't understand that. Please rephrase your statement.\")"
   ]
  }
 ],
 "metadata": {
  "colab": {
   "provenance": []
  },
  "kernelspec": {
   "display_name": "Python 3 (ipykernel)",
   "language": "python",
   "name": "python3"
  },
  "language_info": {
   "codemirror_mode": {
    "name": "ipython",
    "version": 3
   },
   "file_extension": ".py",
   "mimetype": "text/x-python",
   "name": "python",
   "nbconvert_exporter": "python",
   "pygments_lexer": "ipython3",
   "version": "3.11.4"
  },
  "vscode": {
   "interpreter": {
    "hash": "aee8b7b246df8f9039afb4144a1f6fd8d2ca17a180786b69acc140d282b71a49"
   }
  }
 },
 "nbformat": 4,
 "nbformat_minor": 1
}
